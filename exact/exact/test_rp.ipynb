{
 "cells": [
  {
   "cell_type": "code",
   "execution_count": 1,
   "metadata": {},
   "outputs": [
    {
     "name": "stderr",
     "output_type": "stream",
     "text": [
      "/home/akai/anaconda3/envs/EXACT2/lib/python3.8/site-packages/tqdm/auto.py:21: TqdmWarning: IProgress not found. Please update jupyter and ipywidgets. See https://ipywidgets.readthedocs.io/en/stable/user_install.html\n",
      "  from .autonotebook import tqdm as notebook_tqdm\n"
     ]
    },
    {
     "ename": "OSError",
     "evalue": "libmetis.so: cannot open shared object file: No such file or directory",
     "output_type": "error",
     "traceback": [
      "\u001b[0;31m---------------------------------------------------------------------------\u001b[0m",
      "\u001b[0;31mOSError\u001b[0m                                   Traceback (most recent call last)",
      "Cell \u001b[0;32mIn[1], line 4\u001b[0m\n\u001b[1;32m      2\u001b[0m \u001b[39mimport\u001b[39;00m \u001b[39mtime\u001b[39;00m\n\u001b[1;32m      3\u001b[0m \u001b[39mimport\u001b[39;00m \u001b[39mtabulate\u001b[39;00m\n\u001b[0;32m----> 4\u001b[0m \u001b[39mimport\u001b[39;00m \u001b[39mexact\u001b[39;00m\u001b[39m.\u001b[39;00m\u001b[39mops\u001b[39;00m \u001b[39mas\u001b[39;00m \u001b[39mex_ops\u001b[39;00m\n",
      "File \u001b[0;32m~/project/Exact2/exact/exact/__init__.py:2\u001b[0m\n\u001b[1;32m      1\u001b[0m \u001b[39mfrom\u001b[39;00m \u001b[39m.\u001b[39;00m\u001b[39mutils\u001b[39;00m \u001b[39mimport\u001b[39;00m get_memory_usage, compute_tensor_bytes, exp_recorder, cast_adj, cast_low_bit_int\n\u001b[0;32m----> 2\u001b[0m \u001b[39mfrom\u001b[39;00m \u001b[39m.\u001b[39;00m\u001b[39mlayers\u001b[39;00m \u001b[39mimport\u001b[39;00m QGCNConv, QLinear, QReLU, QBatchNorm1d, QDropout, QSAGEConv, QELU, QGCN2Conv, QGENConv\n\u001b[1;32m      3\u001b[0m \u001b[39mfrom\u001b[39;00m \u001b[39m.\u001b[39;00m\u001b[39mconf\u001b[39;00m \u001b[39mimport\u001b[39;00m config\n\u001b[1;32m      4\u001b[0m \u001b[39mfrom\u001b[39;00m \u001b[39m.\u001b[39;00m\u001b[39mmodule\u001b[39;00m \u001b[39mimport\u001b[39;00m QModule\n",
      "File \u001b[0;32m~/project/Exact2/exact/exact/layers.py:2\u001b[0m\n\u001b[1;32m      1\u001b[0m \u001b[39mfrom\u001b[39;00m \u001b[39mtorch\u001b[39;00m\u001b[39m.\u001b[39;00m\u001b[39m_C\u001b[39;00m \u001b[39mimport\u001b[39;00m qscheme\n\u001b[0;32m----> 2\u001b[0m \u001b[39mfrom\u001b[39;00m \u001b[39mtorch_geometric\u001b[39;00m\u001b[39m.\u001b[39;00m\u001b[39mnn\u001b[39;00m\u001b[39m.\u001b[39;00m\u001b[39mconv\u001b[39;00m \u001b[39mimport\u001b[39;00m GCNConv, SAGEConv, GCN2Conv, GraphConv, GENConv\n\u001b[1;32m      3\u001b[0m \u001b[39mfrom\u001b[39;00m \u001b[39mtorch_geometric\u001b[39;00m\u001b[39m.\u001b[39;00m\u001b[39mnn\u001b[39;00m\u001b[39m.\u001b[39;00m\u001b[39mconv\u001b[39;00m\u001b[39m.\u001b[39;00m\u001b[39mgcn_conv\u001b[39;00m \u001b[39mimport\u001b[39;00m gcn_norm\n\u001b[1;32m      4\u001b[0m \u001b[39mfrom\u001b[39;00m \u001b[39mtorch_geometric\u001b[39;00m\u001b[39m.\u001b[39;00m\u001b[39mtyping\u001b[39;00m \u001b[39mimport\u001b[39;00m Adj, OptTensor, Optional, Union, OptPairTensor, Size\n",
      "File \u001b[0;32m~/anaconda3/envs/EXACT2/lib/python3.8/site-packages/torch_geometric/__init__.py:5\u001b[0m\n\u001b[1;32m      2\u001b[0m \u001b[39mfrom\u001b[39;00m \u001b[39mimportlib\u001b[39;00m \u001b[39mimport\u001b[39;00m import_module\n\u001b[1;32m      4\u001b[0m \u001b[39mfrom\u001b[39;00m \u001b[39m.\u001b[39;00m\u001b[39mdebug\u001b[39;00m \u001b[39mimport\u001b[39;00m is_debug_enabled, debug, set_debug\n\u001b[0;32m----> 5\u001b[0m \u001b[39mimport\u001b[39;00m \u001b[39mtorch_geometric\u001b[39;00m\u001b[39m.\u001b[39;00m\u001b[39mdata\u001b[39;00m\n\u001b[1;32m      6\u001b[0m \u001b[39mimport\u001b[39;00m \u001b[39mtorch_geometric\u001b[39;00m\u001b[39m.\u001b[39;00m\u001b[39mtransforms\u001b[39;00m\n\u001b[1;32m      7\u001b[0m \u001b[39mimport\u001b[39;00m \u001b[39mtorch_geometric\u001b[39;00m\u001b[39m.\u001b[39;00m\u001b[39mutils\u001b[39;00m\n",
      "File \u001b[0;32m~/anaconda3/envs/EXACT2/lib/python3.8/site-packages/torch_geometric/data/__init__.py:1\u001b[0m\n\u001b[0;32m----> 1\u001b[0m \u001b[39mfrom\u001b[39;00m \u001b[39m.\u001b[39;00m\u001b[39mdata\u001b[39;00m \u001b[39mimport\u001b[39;00m Data\n\u001b[1;32m      2\u001b[0m \u001b[39mfrom\u001b[39;00m \u001b[39m.\u001b[39;00m\u001b[39mtemporal\u001b[39;00m \u001b[39mimport\u001b[39;00m TemporalData\n\u001b[1;32m      3\u001b[0m \u001b[39mfrom\u001b[39;00m \u001b[39m.\u001b[39;00m\u001b[39mbatch\u001b[39;00m \u001b[39mimport\u001b[39;00m Batch\n",
      "File \u001b[0;32m~/anaconda3/envs/EXACT2/lib/python3.8/site-packages/torch_geometric/data/data.py:8\u001b[0m\n\u001b[1;32m      6\u001b[0m \u001b[39mimport\u001b[39;00m \u001b[39mtorch\u001b[39;00m\n\u001b[1;32m      7\u001b[0m \u001b[39mimport\u001b[39;00m \u001b[39mtorch_geometric\u001b[39;00m\n\u001b[0;32m----> 8\u001b[0m \u001b[39mfrom\u001b[39;00m \u001b[39mtorch_sparse\u001b[39;00m \u001b[39mimport\u001b[39;00m coalesce, SparseTensor\n\u001b[1;32m      9\u001b[0m \u001b[39mfrom\u001b[39;00m \u001b[39mtorch_geometric\u001b[39;00m\u001b[39m.\u001b[39;00m\u001b[39mutils\u001b[39;00m \u001b[39mimport\u001b[39;00m (contains_isolated_nodes,\n\u001b[1;32m     10\u001b[0m                                    contains_self_loops, is_undirected)\n\u001b[1;32m     12\u001b[0m \u001b[39mfrom\u001b[39;00m \u001b[39m.\u001b[39;00m\u001b[39m.\u001b[39;00m\u001b[39mutils\u001b[39;00m\u001b[39m.\u001b[39;00m\u001b[39mnum_nodes\u001b[39;00m \u001b[39mimport\u001b[39;00m maybe_num_nodes\n",
      "File \u001b[0;32m~/anaconda3/envs/EXACT2/lib/python3.8/site-packages/torch_sparse/__init__.py:15\u001b[0m\n\u001b[1;32m      8\u001b[0m suffix \u001b[39m=\u001b[39m \u001b[39m'\u001b[39m\u001b[39mcuda\u001b[39m\u001b[39m'\u001b[39m \u001b[39mif\u001b[39;00m torch\u001b[39m.\u001b[39mcuda\u001b[39m.\u001b[39mis_available() \u001b[39melse\u001b[39;00m \u001b[39m'\u001b[39m\u001b[39mcpu\u001b[39m\u001b[39m'\u001b[39m\n\u001b[1;32m     10\u001b[0m \u001b[39mfor\u001b[39;00m library \u001b[39min\u001b[39;00m [\n\u001b[1;32m     11\u001b[0m         \u001b[39m'\u001b[39m\u001b[39m_version\u001b[39m\u001b[39m'\u001b[39m, \u001b[39m'\u001b[39m\u001b[39m_convert\u001b[39m\u001b[39m'\u001b[39m, \u001b[39m'\u001b[39m\u001b[39m_diag\u001b[39m\u001b[39m'\u001b[39m, \u001b[39m'\u001b[39m\u001b[39m_spmm\u001b[39m\u001b[39m'\u001b[39m, \u001b[39m'\u001b[39m\u001b[39m_spspmm\u001b[39m\u001b[39m'\u001b[39m, \u001b[39m'\u001b[39m\u001b[39m_metis\u001b[39m\u001b[39m'\u001b[39m, \u001b[39m'\u001b[39m\u001b[39m_rw\u001b[39m\u001b[39m'\u001b[39m,\n\u001b[1;32m     12\u001b[0m         \u001b[39m'\u001b[39m\u001b[39m_saint\u001b[39m\u001b[39m'\u001b[39m, \u001b[39m'\u001b[39m\u001b[39m_sample\u001b[39m\u001b[39m'\u001b[39m, \u001b[39m'\u001b[39m\u001b[39m_ego_sample\u001b[39m\u001b[39m'\u001b[39m, \u001b[39m'\u001b[39m\u001b[39m_hgt_sample\u001b[39m\u001b[39m'\u001b[39m, \u001b[39m'\u001b[39m\u001b[39m_neighbor_sample\u001b[39m\u001b[39m'\u001b[39m,\n\u001b[1;32m     13\u001b[0m         \u001b[39m'\u001b[39m\u001b[39m_relabel\u001b[39m\u001b[39m'\u001b[39m\n\u001b[1;32m     14\u001b[0m ]:\n\u001b[0;32m---> 15\u001b[0m     torch\u001b[39m.\u001b[39;49mops\u001b[39m.\u001b[39;49mload_library(importlib\u001b[39m.\u001b[39;49mmachinery\u001b[39m.\u001b[39;49mPathFinder()\u001b[39m.\u001b[39;49mfind_spec(\n\u001b[1;32m     16\u001b[0m         \u001b[39mf\u001b[39;49m\u001b[39m'\u001b[39;49m\u001b[39m{\u001b[39;49;00mlibrary\u001b[39m}\u001b[39;49;00m\u001b[39m_\u001b[39;49m\u001b[39m{\u001b[39;49;00msuffix\u001b[39m}\u001b[39;49;00m\u001b[39m'\u001b[39;49m, [osp\u001b[39m.\u001b[39;49mdirname(\u001b[39m__file__\u001b[39;49m)])\u001b[39m.\u001b[39;49morigin)\n\u001b[1;32m     18\u001b[0m \u001b[39mif\u001b[39;00m torch\u001b[39m.\u001b[39mcuda\u001b[39m.\u001b[39mis_available():  \u001b[39m# pragma: no cover\u001b[39;00m\n\u001b[1;32m     19\u001b[0m     cuda_version \u001b[39m=\u001b[39m torch\u001b[39m.\u001b[39mops\u001b[39m.\u001b[39mtorch_sparse\u001b[39m.\u001b[39mcuda_version()\n",
      "File \u001b[0;32m~/anaconda3/envs/EXACT2/lib/python3.8/site-packages/torch/_ops.py:104\u001b[0m, in \u001b[0;36m_Ops.load_library\u001b[0;34m(self, path)\u001b[0m\n\u001b[1;32m     99\u001b[0m path \u001b[39m=\u001b[39m torch\u001b[39m.\u001b[39m_utils_internal\u001b[39m.\u001b[39mresolve_library_path(path)\n\u001b[1;32m    100\u001b[0m \u001b[39mwith\u001b[39;00m dl_open_guard():\n\u001b[1;32m    101\u001b[0m     \u001b[39m# Import the shared library into the process, thus running its\u001b[39;00m\n\u001b[1;32m    102\u001b[0m     \u001b[39m# static (global) initialization code in order to register custom\u001b[39;00m\n\u001b[1;32m    103\u001b[0m     \u001b[39m# operators with the JIT.\u001b[39;00m\n\u001b[0;32m--> 104\u001b[0m     ctypes\u001b[39m.\u001b[39;49mCDLL(path)\n\u001b[1;32m    105\u001b[0m \u001b[39mself\u001b[39m\u001b[39m.\u001b[39mloaded_libraries\u001b[39m.\u001b[39madd(path)\n",
      "File \u001b[0;32m~/anaconda3/envs/EXACT2/lib/python3.8/ctypes/__init__.py:373\u001b[0m, in \u001b[0;36mCDLL.__init__\u001b[0;34m(self, name, mode, handle, use_errno, use_last_error, winmode)\u001b[0m\n\u001b[1;32m    370\u001b[0m \u001b[39mself\u001b[39m\u001b[39m.\u001b[39m_FuncPtr \u001b[39m=\u001b[39m _FuncPtr\n\u001b[1;32m    372\u001b[0m \u001b[39mif\u001b[39;00m handle \u001b[39mis\u001b[39;00m \u001b[39mNone\u001b[39;00m:\n\u001b[0;32m--> 373\u001b[0m     \u001b[39mself\u001b[39m\u001b[39m.\u001b[39m_handle \u001b[39m=\u001b[39m _dlopen(\u001b[39mself\u001b[39;49m\u001b[39m.\u001b[39;49m_name, mode)\n\u001b[1;32m    374\u001b[0m \u001b[39melse\u001b[39;00m:\n\u001b[1;32m    375\u001b[0m     \u001b[39mself\u001b[39m\u001b[39m.\u001b[39m_handle \u001b[39m=\u001b[39m handle\n",
      "\u001b[0;31mOSError\u001b[0m: libmetis.so: cannot open shared object file: No such file or directory"
     ]
    }
   ],
   "source": [
    "import torch\n",
    "import time\n",
    "import tabulate\n",
    "import exact.ops as ex_ops"
   ]
  },
  {
   "cell_type": "code",
   "execution_count": 83,
   "metadata": {},
   "outputs": [],
   "source": [
    "\n",
    "@torch.no_grad()\n",
    "def seed_gen_rad_mat(rm_size, feat_size, device, dtype, seed):\n",
    "    torch.cuda.manual_seed(seed)\n",
    "    bern = torch.randint(2, size=rm_size, device=device, requires_grad=False, dtype=dtype)\n",
    "    return (2.0 * bern - 1) / feat_size **0.5\n",
    "@torch.no_grad()\n",
    "def low_mem_input2rp(input, kept_acts):\n",
    "    assert len(input.size()) == 2\n",
    "    rand_mat_size = (input.shape[1], kept_acts)\n",
    "    # Create random matrix\n",
    "    seed = int(time.time()*1000)\n",
    "    rand_matrix = seed_gen_rad_mat(rand_mat_size, kept_acts, input.device, input.dtype, seed)\n",
    "    dim_reduced_input = torch.matmul(input, rand_matrix)\n",
    "    print('='*20, 'input2rp', '='*20)\n",
    "    print(rand_matrix)\n",
    "    return dim_reduced_input, rand_mat_size, seed\n",
    "\n",
    "\n",
    "@torch.no_grad()\n",
    "def low_mem_rp2input(dim_reduced_input, input_shape, seed, rm_size):\n",
    "    assert len(dim_reduced_input.size()) == 2\n",
    "    rand_matrix = seed_gen_rad_mat(rm_size, rm_size[1], dim_reduced_input.device, dim_reduced_input.dtype, seed)\n",
    "    input = torch.matmul(dim_reduced_input, rand_matrix.t())    \n",
    "    print('='*20, 'rp2input', '='*20)\n",
    "    print(rand_matrix)\n",
    "    return input.view(input_shape)"
   ]
  },
  {
   "cell_type": "code",
   "execution_count": 84,
   "metadata": {},
   "outputs": [
    {
     "name": "stdout",
     "output_type": "stream",
     "text": [
      "==================== input2rp ====================\n",
      "tensor([[ 0.7071, -0.7071],\n",
      "        [-0.7071, -0.7071],\n",
      "        [-0.7071,  0.7071],\n",
      "        [ 0.7071,  0.7071]], device='cuda:0')\n",
      "==================== rp2input ====================\n",
      "tensor([[ 0.7071, -0.7071],\n",
      "        [-0.7071, -0.7071],\n",
      "        [-0.7071,  0.7071],\n",
      "        [ 0.7071,  0.7071]], device='cuda:0')\n"
     ]
    }
   ],
   "source": [
    "input = torch.rand((4,4), dtype=torch.float32, device='cuda')\n",
    "kept_acts = 2\n",
    "dim_reduced_input, rand_mat_size, seed = low_mem_input2rp(input, kept_acts)\n",
    "input_recovered = low_mem_rp2input(dim_reduced_input, input.shape, seed, rand_mat_size)\n"
   ]
  },
  {
   "cell_type": "code",
   "execution_count": 93,
   "metadata": {},
   "outputs": [
    {
     "name": "stdout",
     "output_type": "stream",
     "text": [
      "-------------------------  --------\n",
      "exact input2rp avg (us)    19.0703\n",
      "exact rp2input avg (us)     7.72867\n",
      "low mem input2rp avg (us)  21.665\n",
      "low mem rp2input avg (us)  22.2179\n",
      "-------------------------  --------\n"
     ]
    }
   ],
   "source": [
    "def test_rp_speed():\n",
    "    runtime = 1_0000\n",
    "    M, N = 1024, 128 \n",
    "    input = torch.rand(M, N, dtype=torch.float32).cuda()\n",
    "    kept_acts = 0.5\n",
    "    kept_acts = int(input.shape[1]*kept_acts+0.99)\n",
    "    low_mem_input2rp_time = 0.0\n",
    "    low_mem_rp2input_time = 0.0\n",
    "    input2rp_time = 0.0\n",
    "    rp2input_time = 0.0\n",
    "    for _ in range(runtime//100):\n",
    "        dim_reduced_input, rm_size, seed = ex_ops.low_mem_input2rp(input, kept_acts)\n",
    "        rec_input = ex_ops.low_mem_rp2input(dim_reduced_input, input.shape, seed, rm_size)\n",
    "        dim_reduced_input, rd_mat = ex_ops.input2rp(input, kept_acts)\n",
    "        rec_input = ex_ops.rp2input(dim_reduced_input, input.shape, rd_mat)\n",
    "    torch.cuda.synchronize()\n",
    "    for _ in range(runtime):\n",
    "        \n",
    "        start = time.time()\n",
    "        dim_reduced_input, rm_size, seed = ex_ops.low_mem_input2rp(input, kept_acts)\n",
    "        # print(rd_mat)\n",
    "        end = time.time()\n",
    "        # torch.cuda.synchronize()\n",
    "        low_mem_input2rp_time += end - start\n",
    "        start = time.time()\n",
    "        rec_input = ex_ops.low_mem_rp2input(dim_reduced_input, input.shape, seed, rm_size)\n",
    "        end = time.time()\n",
    "        # torch.cuda.synchronize()\n",
    "        low_mem_rp2input_time += end - start\n",
    "\n",
    "\n",
    "        start = time.time()\n",
    "        dim_reduced_input, rd_mat = ex_ops.input2rp(input, kept_acts)\n",
    "        end = time.time()\n",
    "        # torch.cuda.synchronize()\n",
    "        input2rp_time += end - start\n",
    "        start = time.time()\n",
    "        rec_input = ex_ops.rp2input(dim_reduced_input, input.shape, rd_mat)\n",
    "        end = time.time()\n",
    "        # torch.cuda.synchronize()\n",
    "        rp2input_time += end - start\n",
    "\n",
    "        \n",
    "    torch.cuda.synchronize()\n",
    "\n",
    "        \n",
    "    low_mem_input2rp_time = low_mem_input2rp_time/runtime*1e6\n",
    "    low_mem_rp2input_time = low_mem_rp2input_time/runtime*1e6\n",
    "    input2rp_time = input2rp_time/runtime*1e6\n",
    "    rp2input_time = rp2input_time/runtime*1e6\n",
    "    print(tabulate.tabulate([\n",
    "        [\"exact input2rp avg (us)\"] + [input2rp_time],\n",
    "        [\"exact rp2input avg (us)\"] + [rp2input_time],\n",
    "        [\"low mem input2rp avg (us)\"] + [low_mem_input2rp_time],\n",
    "        [\"low mem rp2input avg (us)\"] + [low_mem_rp2input_time],\n",
    "    ]))\n",
    "test_rp_speed()"
   ]
  },
  {
   "cell_type": "code",
   "execution_count": 1,
   "metadata": {},
   "outputs": [
    {
     "ename": "OSError",
     "evalue": "libmetis.so: cannot open shared object file: No such file or directory",
     "output_type": "error",
     "traceback": [
      "\u001b[0;31m---------------------------------------------------------------------------\u001b[0m",
      "\u001b[0;31mOSError\u001b[0m                                   Traceback (most recent call last)",
      "Cell \u001b[0;32mIn[1], line 1\u001b[0m\n\u001b[0;32m----> 1\u001b[0m \u001b[39mfrom\u001b[39;00m \u001b[39mexact\u001b[39;00m\u001b[39m.\u001b[39;00m\u001b[39mops\u001b[39;00m \u001b[39mimport\u001b[39;00m low_mem_input2rp, low_mem_rp2input\n\u001b[1;32m      2\u001b[0m \u001b[39minput\u001b[39m \u001b[39m=\u001b[39m torch\u001b[39m.\u001b[39mrand(\u001b[39m4\u001b[39m,\u001b[39m4\u001b[39m)\n\u001b[1;32m      3\u001b[0m kept_acts \u001b[39m=\u001b[39m \u001b[39m2\u001b[39m\n",
      "File \u001b[0;32m~/project/Exact2/exact/exact/__init__.py:2\u001b[0m\n\u001b[1;32m      1\u001b[0m \u001b[39mfrom\u001b[39;00m \u001b[39m.\u001b[39;00m\u001b[39mutils\u001b[39;00m \u001b[39mimport\u001b[39;00m get_memory_usage, compute_tensor_bytes, exp_recorder, cast_adj, cast_low_bit_int\n\u001b[0;32m----> 2\u001b[0m \u001b[39mfrom\u001b[39;00m \u001b[39m.\u001b[39;00m\u001b[39mlayers\u001b[39;00m \u001b[39mimport\u001b[39;00m QGCNConv, QLinear, QReLU, QBatchNorm1d, QDropout, QSAGEConv, QELU, QGCN2Conv, QGENConv\n\u001b[1;32m      3\u001b[0m \u001b[39mfrom\u001b[39;00m \u001b[39m.\u001b[39;00m\u001b[39mconf\u001b[39;00m \u001b[39mimport\u001b[39;00m config\n\u001b[1;32m      4\u001b[0m \u001b[39mfrom\u001b[39;00m \u001b[39m.\u001b[39;00m\u001b[39mmodule\u001b[39;00m \u001b[39mimport\u001b[39;00m QModule\n",
      "File \u001b[0;32m~/project/Exact2/exact/exact/layers.py:2\u001b[0m\n\u001b[1;32m      1\u001b[0m \u001b[39mfrom\u001b[39;00m \u001b[39mtorch\u001b[39;00m\u001b[39m.\u001b[39;00m\u001b[39m_C\u001b[39;00m \u001b[39mimport\u001b[39;00m qscheme\n\u001b[0;32m----> 2\u001b[0m \u001b[39mfrom\u001b[39;00m \u001b[39mtorch_geometric\u001b[39;00m\u001b[39m.\u001b[39;00m\u001b[39mnn\u001b[39;00m\u001b[39m.\u001b[39;00m\u001b[39mconv\u001b[39;00m \u001b[39mimport\u001b[39;00m GCNConv, SAGEConv, GCN2Conv, GraphConv, GENConv\n\u001b[1;32m      3\u001b[0m \u001b[39mfrom\u001b[39;00m \u001b[39mtorch_geometric\u001b[39;00m\u001b[39m.\u001b[39;00m\u001b[39mnn\u001b[39;00m\u001b[39m.\u001b[39;00m\u001b[39mconv\u001b[39;00m\u001b[39m.\u001b[39;00m\u001b[39mgcn_conv\u001b[39;00m \u001b[39mimport\u001b[39;00m gcn_norm\n\u001b[1;32m      4\u001b[0m \u001b[39mfrom\u001b[39;00m \u001b[39mtorch_geometric\u001b[39;00m\u001b[39m.\u001b[39;00m\u001b[39mtyping\u001b[39;00m \u001b[39mimport\u001b[39;00m Adj, OptTensor, Optional, Union, OptPairTensor, Size\n",
      "File \u001b[0;32m~/anaconda3/envs/EXACT2/lib/python3.8/site-packages/torch_geometric/__init__.py:5\u001b[0m\n\u001b[1;32m      2\u001b[0m \u001b[39mfrom\u001b[39;00m \u001b[39mimportlib\u001b[39;00m \u001b[39mimport\u001b[39;00m import_module\n\u001b[1;32m      4\u001b[0m \u001b[39mfrom\u001b[39;00m \u001b[39m.\u001b[39;00m\u001b[39mdebug\u001b[39;00m \u001b[39mimport\u001b[39;00m is_debug_enabled, debug, set_debug\n\u001b[0;32m----> 5\u001b[0m \u001b[39mimport\u001b[39;00m \u001b[39mtorch_geometric\u001b[39;00m\u001b[39m.\u001b[39;00m\u001b[39mdata\u001b[39;00m\n\u001b[1;32m      6\u001b[0m \u001b[39mimport\u001b[39;00m \u001b[39mtorch_geometric\u001b[39;00m\u001b[39m.\u001b[39;00m\u001b[39mtransforms\u001b[39;00m\n\u001b[1;32m      7\u001b[0m \u001b[39mimport\u001b[39;00m \u001b[39mtorch_geometric\u001b[39;00m\u001b[39m.\u001b[39;00m\u001b[39mutils\u001b[39;00m\n",
      "File \u001b[0;32m~/anaconda3/envs/EXACT2/lib/python3.8/site-packages/torch_geometric/data/__init__.py:1\u001b[0m\n\u001b[0;32m----> 1\u001b[0m \u001b[39mfrom\u001b[39;00m \u001b[39m.\u001b[39;00m\u001b[39mdata\u001b[39;00m \u001b[39mimport\u001b[39;00m Data\n\u001b[1;32m      2\u001b[0m \u001b[39mfrom\u001b[39;00m \u001b[39m.\u001b[39;00m\u001b[39mtemporal\u001b[39;00m \u001b[39mimport\u001b[39;00m TemporalData\n\u001b[1;32m      3\u001b[0m \u001b[39mfrom\u001b[39;00m \u001b[39m.\u001b[39;00m\u001b[39mbatch\u001b[39;00m \u001b[39mimport\u001b[39;00m Batch\n",
      "File \u001b[0;32m~/anaconda3/envs/EXACT2/lib/python3.8/site-packages/torch_geometric/data/data.py:8\u001b[0m\n\u001b[1;32m      6\u001b[0m \u001b[39mimport\u001b[39;00m \u001b[39mtorch\u001b[39;00m\n\u001b[1;32m      7\u001b[0m \u001b[39mimport\u001b[39;00m \u001b[39mtorch_geometric\u001b[39;00m\n\u001b[0;32m----> 8\u001b[0m \u001b[39mfrom\u001b[39;00m \u001b[39mtorch_sparse\u001b[39;00m \u001b[39mimport\u001b[39;00m coalesce, SparseTensor\n\u001b[1;32m      9\u001b[0m \u001b[39mfrom\u001b[39;00m \u001b[39mtorch_geometric\u001b[39;00m\u001b[39m.\u001b[39;00m\u001b[39mutils\u001b[39;00m \u001b[39mimport\u001b[39;00m (contains_isolated_nodes,\n\u001b[1;32m     10\u001b[0m                                    contains_self_loops, is_undirected)\n\u001b[1;32m     12\u001b[0m \u001b[39mfrom\u001b[39;00m \u001b[39m.\u001b[39;00m\u001b[39m.\u001b[39;00m\u001b[39mutils\u001b[39;00m\u001b[39m.\u001b[39;00m\u001b[39mnum_nodes\u001b[39;00m \u001b[39mimport\u001b[39;00m maybe_num_nodes\n",
      "File \u001b[0;32m~/anaconda3/envs/EXACT2/lib/python3.8/site-packages/torch_sparse/__init__.py:15\u001b[0m\n\u001b[1;32m      8\u001b[0m suffix \u001b[39m=\u001b[39m \u001b[39m'\u001b[39m\u001b[39mcuda\u001b[39m\u001b[39m'\u001b[39m \u001b[39mif\u001b[39;00m torch\u001b[39m.\u001b[39mcuda\u001b[39m.\u001b[39mis_available() \u001b[39melse\u001b[39;00m \u001b[39m'\u001b[39m\u001b[39mcpu\u001b[39m\u001b[39m'\u001b[39m\n\u001b[1;32m     10\u001b[0m \u001b[39mfor\u001b[39;00m library \u001b[39min\u001b[39;00m [\n\u001b[1;32m     11\u001b[0m         \u001b[39m'\u001b[39m\u001b[39m_version\u001b[39m\u001b[39m'\u001b[39m, \u001b[39m'\u001b[39m\u001b[39m_convert\u001b[39m\u001b[39m'\u001b[39m, \u001b[39m'\u001b[39m\u001b[39m_diag\u001b[39m\u001b[39m'\u001b[39m, \u001b[39m'\u001b[39m\u001b[39m_spmm\u001b[39m\u001b[39m'\u001b[39m, \u001b[39m'\u001b[39m\u001b[39m_spspmm\u001b[39m\u001b[39m'\u001b[39m, \u001b[39m'\u001b[39m\u001b[39m_metis\u001b[39m\u001b[39m'\u001b[39m, \u001b[39m'\u001b[39m\u001b[39m_rw\u001b[39m\u001b[39m'\u001b[39m,\n\u001b[1;32m     12\u001b[0m         \u001b[39m'\u001b[39m\u001b[39m_saint\u001b[39m\u001b[39m'\u001b[39m, \u001b[39m'\u001b[39m\u001b[39m_sample\u001b[39m\u001b[39m'\u001b[39m, \u001b[39m'\u001b[39m\u001b[39m_ego_sample\u001b[39m\u001b[39m'\u001b[39m, \u001b[39m'\u001b[39m\u001b[39m_hgt_sample\u001b[39m\u001b[39m'\u001b[39m, \u001b[39m'\u001b[39m\u001b[39m_neighbor_sample\u001b[39m\u001b[39m'\u001b[39m,\n\u001b[1;32m     13\u001b[0m         \u001b[39m'\u001b[39m\u001b[39m_relabel\u001b[39m\u001b[39m'\u001b[39m\n\u001b[1;32m     14\u001b[0m ]:\n\u001b[0;32m---> 15\u001b[0m     torch\u001b[39m.\u001b[39;49mops\u001b[39m.\u001b[39;49mload_library(importlib\u001b[39m.\u001b[39;49mmachinery\u001b[39m.\u001b[39;49mPathFinder()\u001b[39m.\u001b[39;49mfind_spec(\n\u001b[1;32m     16\u001b[0m         \u001b[39mf\u001b[39;49m\u001b[39m'\u001b[39;49m\u001b[39m{\u001b[39;49;00mlibrary\u001b[39m}\u001b[39;49;00m\u001b[39m_\u001b[39;49m\u001b[39m{\u001b[39;49;00msuffix\u001b[39m}\u001b[39;49;00m\u001b[39m'\u001b[39;49m, [osp\u001b[39m.\u001b[39;49mdirname(\u001b[39m__file__\u001b[39;49m)])\u001b[39m.\u001b[39;49morigin)\n\u001b[1;32m     18\u001b[0m \u001b[39mif\u001b[39;00m torch\u001b[39m.\u001b[39mcuda\u001b[39m.\u001b[39mis_available():  \u001b[39m# pragma: no cover\u001b[39;00m\n\u001b[1;32m     19\u001b[0m     cuda_version \u001b[39m=\u001b[39m torch\u001b[39m.\u001b[39mops\u001b[39m.\u001b[39mtorch_sparse\u001b[39m.\u001b[39mcuda_version()\n",
      "File \u001b[0;32m~/anaconda3/envs/EXACT2/lib/python3.8/site-packages/torch/_ops.py:104\u001b[0m, in \u001b[0;36m_Ops.load_library\u001b[0;34m(self, path)\u001b[0m\n\u001b[1;32m     99\u001b[0m path \u001b[39m=\u001b[39m torch\u001b[39m.\u001b[39m_utils_internal\u001b[39m.\u001b[39mresolve_library_path(path)\n\u001b[1;32m    100\u001b[0m \u001b[39mwith\u001b[39;00m dl_open_guard():\n\u001b[1;32m    101\u001b[0m     \u001b[39m# Import the shared library into the process, thus running its\u001b[39;00m\n\u001b[1;32m    102\u001b[0m     \u001b[39m# static (global) initialization code in order to register custom\u001b[39;00m\n\u001b[1;32m    103\u001b[0m     \u001b[39m# operators with the JIT.\u001b[39;00m\n\u001b[0;32m--> 104\u001b[0m     ctypes\u001b[39m.\u001b[39;49mCDLL(path)\n\u001b[1;32m    105\u001b[0m \u001b[39mself\u001b[39m\u001b[39m.\u001b[39mloaded_libraries\u001b[39m.\u001b[39madd(path)\n",
      "File \u001b[0;32m~/anaconda3/envs/EXACT2/lib/python3.8/ctypes/__init__.py:373\u001b[0m, in \u001b[0;36mCDLL.__init__\u001b[0;34m(self, name, mode, handle, use_errno, use_last_error, winmode)\u001b[0m\n\u001b[1;32m    370\u001b[0m \u001b[39mself\u001b[39m\u001b[39m.\u001b[39m_FuncPtr \u001b[39m=\u001b[39m _FuncPtr\n\u001b[1;32m    372\u001b[0m \u001b[39mif\u001b[39;00m handle \u001b[39mis\u001b[39;00m \u001b[39mNone\u001b[39;00m:\n\u001b[0;32m--> 373\u001b[0m     \u001b[39mself\u001b[39m\u001b[39m.\u001b[39m_handle \u001b[39m=\u001b[39m _dlopen(\u001b[39mself\u001b[39;49m\u001b[39m.\u001b[39;49m_name, mode)\n\u001b[1;32m    374\u001b[0m \u001b[39melse\u001b[39;00m:\n\u001b[1;32m    375\u001b[0m     \u001b[39mself\u001b[39m\u001b[39m.\u001b[39m_handle \u001b[39m=\u001b[39m handle\n",
      "\u001b[0;31mOSError\u001b[0m: libmetis.so: cannot open shared object file: No such file or directory"
     ]
    }
   ],
   "source": [
    "from exact.ops import low_mem_input2rp, low_mem_rp2input\n",
    "input = torch.rand(4,4)\n",
    "kept_acts = 2\n",
    "dim_reduced_input, rand_mat_size, seed = low_mem_input2rp(input, kept_acts)\n",
    "input_recovered = low_mem_rp2input(dim_reduced_input, input.shape, seed, rand_mat_size)\n"
   ]
  }
 ],
 "metadata": {
  "kernelspec": {
   "display_name": "EXACT2",
   "language": "python",
   "name": "python3"
  },
  "language_info": {
   "codemirror_mode": {
    "name": "ipython",
    "version": 3
   },
   "file_extension": ".py",
   "mimetype": "text/x-python",
   "name": "python",
   "nbconvert_exporter": "python",
   "pygments_lexer": "ipython3",
   "version": "3.8.17"
  },
  "orig_nbformat": 4
 },
 "nbformat": 4,
 "nbformat_minor": 2
}
