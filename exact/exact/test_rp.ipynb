{
 "cells": [
  {
   "cell_type": "code",
   "execution_count": 2,
   "metadata": {},
   "outputs": [],
   "source": [
    "import torch\n",
    "import time"
   ]
  },
  {
   "cell_type": "code",
   "execution_count": 66,
   "metadata": {},
   "outputs": [],
   "source": [
    "\n",
    "@torch.no_grad()\n",
    "def seed_gen_rad_mat(rm_size, feat_size, device, dtype, seed):\n",
    "    torch.cuda.manual_seed(seed)\n",
    "    bern = torch.randint(2, size=rm_size, device=device, requires_grad=False, dtype=dtype)\n",
    "    return (2.0 * bern - 1) / feat_size **0.5\n",
    "@torch.no_grad()\n",
    "def low_mem_input2rp(input, kept_acts):\n",
    "    assert len(input.size()) == 2\n",
    "    rand_mat_size = (input.shape[1], kept_acts)\n",
    "    # Create random matrix\n",
    "    seed = int(time.time()*1000)\n",
    "    rand_matrix = seed_gen_rad_mat(rand_mat_size, kept_acts, input.device, input.dtype, seed)\n",
    "    dim_reduced_input = torch.matmul(input, rand_matrix)\n",
    "    print('='*20, 'input2rp', '='*20)\n",
    "    print(rand_matrix)\n",
    "    return dim_reduced_input, rand_mat_size, seed\n",
    "\n",
    "\n",
    "@torch.no_grad()\n",
    "def low_mem_rp2input(dim_reduced_input, input_shape, seed, rm_size):\n",
    "    assert len(dim_reduced_input.size()) == 2\n",
    "    rand_matrix = seed_gen_rad_mat(rm_size, rm_size[1], dim_reduced_input.device, dim_reduced_input.dtype, seed)\n",
    "    input = torch.matmul(dim_reduced_input, rand_matrix.t())    \n",
    "    print('='*20, 'rp2input', '='*20)\n",
    "    print(rand_matrix)\n",
    "    return input.view(input_shape)"
   ]
  },
  {
   "cell_type": "code",
   "execution_count": 72,
   "metadata": {},
   "outputs": [
    {
     "name": "stdout",
     "output_type": "stream",
     "text": [
      "==================== input2rp ====================\n",
      "tensor([[ 0.7071, -0.7071],\n",
      "        [-0.7071,  0.7071],\n",
      "        [ 0.7071,  0.7071],\n",
      "        [ 0.7071, -0.7071]], device='cuda:0')\n",
      "==================== rp2input ====================\n",
      "tensor([[ 0.7071, -0.7071],\n",
      "        [-0.7071,  0.7071],\n",
      "        [ 0.7071,  0.7071],\n",
      "        [ 0.7071, -0.7071]], device='cuda:0')\n"
     ]
    }
   ],
   "source": [
    "input = torch.rand((4,4), dtype=torch.float32, device='cuda')\n",
    "kept_acts = 2\n",
    "dim_reduced_input, rand_mat_size, seed = low_mem_input2rp(input, kept_acts)\n",
    "input_recovered = low_mem_rp2input(dim_reduced_input, input.shape, seed, rand_mat_size)\n"
   ]
  },
  {
   "cell_type": "code",
   "execution_count": 49,
   "metadata": {},
   "outputs": [],
   "source": [
    "seed = int(time.time()*1000)\n",
    "torch.manual_seed(seed)\n",
    "torch.cuda.manual_seed(seed)\n"
   ]
  },
  {
   "cell_type": "code",
   "execution_count": 64,
   "metadata": {},
   "outputs": [
    {
     "name": "stdout",
     "output_type": "stream",
     "text": [
      "tensor([[0.6944, 0.0137, 0.4753, 0.3608],\n",
      "        [0.7167, 0.2386, 0.7950, 0.8708],\n",
      "        [0.8432, 0.6082, 0.2663, 0.2225],\n",
      "        [0.3606, 0.7359, 0.5603, 0.2655]], device='cuda:0')\n"
     ]
    }
   ],
   "source": [
    "# torch.manual_seed(seed)\n",
    "torch.cuda.manual_seed(seed)\n",
    "print(torch.rand(4,4, device='cuda'))"
   ]
  }
 ],
 "metadata": {
  "kernelspec": {
   "display_name": "EXACT2",
   "language": "python",
   "name": "python3"
  },
  "language_info": {
   "codemirror_mode": {
    "name": "ipython",
    "version": 3
   },
   "file_extension": ".py",
   "mimetype": "text/x-python",
   "name": "python",
   "nbconvert_exporter": "python",
   "pygments_lexer": "ipython3",
   "version": "3.8.17"
  },
  "orig_nbformat": 4
 },
 "nbformat": 4,
 "nbformat_minor": 2
}
