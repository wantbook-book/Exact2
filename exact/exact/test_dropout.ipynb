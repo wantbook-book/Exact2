{
 "cells": [
  {
   "cell_type": "code",
   "execution_count": 1,
   "metadata": {},
   "outputs": [
    {
     "name": "stderr",
     "output_type": "stream",
     "text": [
      "/home/akai/anaconda3/envs/EXACT2/lib/python3.8/site-packages/tqdm/auto.py:21: TqdmWarning: IProgress not found. Please update jupyter and ipywidgets. See https://ipywidgets.readthedocs.io/en/stable/user_install.html\n",
      "  from .autonotebook import tqdm as notebook_tqdm\n"
     ]
    },
    {
     "ename": "OSError",
     "evalue": "libmetis.so: cannot open shared object file: No such file or directory",
     "output_type": "error",
     "traceback": [
      "\u001b[0;31m---------------------------------------------------------------------------\u001b[0m",
      "\u001b[0;31mOSError\u001b[0m                                   Traceback (most recent call last)",
      "Cell \u001b[0;32mIn[1], line 4\u001b[0m\n\u001b[1;32m      1\u001b[0m \u001b[39mimport\u001b[39;00m \u001b[39mtorch\u001b[39;00m\n\u001b[1;32m      2\u001b[0m \u001b[39m# import triton\u001b[39;00m\n\u001b[1;32m      3\u001b[0m \u001b[39m# import triton.language as tl\u001b[39;00m\n\u001b[0;32m----> 4\u001b[0m \u001b[39mimport\u001b[39;00m \u001b[39mexact\u001b[39;00m\u001b[39m.\u001b[39;00m\u001b[39mcpp_extension\u001b[39;00m\u001b[39m.\u001b[39;00m\u001b[39mquantization\u001b[39;00m \u001b[39mas\u001b[39;00m \u001b[39mext_quantization\u001b[39;00m\n\u001b[1;32m      5\u001b[0m \u001b[39mimport\u001b[39;00m \u001b[39mtime\u001b[39;00m\n\u001b[1;32m      6\u001b[0m \u001b[39mimport\u001b[39;00m \u001b[39msys\u001b[39;00m\n",
      "File \u001b[0;32m~/project/Exact2/exact/exact/__init__.py:2\u001b[0m\n\u001b[1;32m      1\u001b[0m \u001b[39mfrom\u001b[39;00m \u001b[39m.\u001b[39;00m\u001b[39mutils\u001b[39;00m \u001b[39mimport\u001b[39;00m get_memory_usage, compute_tensor_bytes, exp_recorder, cast_adj, cast_low_bit_int\n\u001b[0;32m----> 2\u001b[0m \u001b[39mfrom\u001b[39;00m \u001b[39m.\u001b[39;00m\u001b[39mlayers\u001b[39;00m \u001b[39mimport\u001b[39;00m QGCNConv, QLinear, QReLU, QBatchNorm1d, QDropout, QSAGEConv, QELU, QGCN2Conv, QGENConv\n\u001b[1;32m      3\u001b[0m \u001b[39mfrom\u001b[39;00m \u001b[39m.\u001b[39;00m\u001b[39mconf\u001b[39;00m \u001b[39mimport\u001b[39;00m config\n\u001b[1;32m      4\u001b[0m \u001b[39mfrom\u001b[39;00m \u001b[39m.\u001b[39;00m\u001b[39mmodule\u001b[39;00m \u001b[39mimport\u001b[39;00m QModule\n",
      "File \u001b[0;32m~/project/Exact2/exact/exact/layers.py:2\u001b[0m\n\u001b[1;32m      1\u001b[0m \u001b[39mfrom\u001b[39;00m \u001b[39mtorch\u001b[39;00m\u001b[39m.\u001b[39;00m\u001b[39m_C\u001b[39;00m \u001b[39mimport\u001b[39;00m qscheme\n\u001b[0;32m----> 2\u001b[0m \u001b[39mfrom\u001b[39;00m \u001b[39mtorch_geometric\u001b[39;00m\u001b[39m.\u001b[39;00m\u001b[39mnn\u001b[39;00m\u001b[39m.\u001b[39;00m\u001b[39mconv\u001b[39;00m \u001b[39mimport\u001b[39;00m GCNConv, SAGEConv, GCN2Conv, GraphConv, GENConv\n\u001b[1;32m      3\u001b[0m \u001b[39mfrom\u001b[39;00m \u001b[39mtorch_geometric\u001b[39;00m\u001b[39m.\u001b[39;00m\u001b[39mnn\u001b[39;00m\u001b[39m.\u001b[39;00m\u001b[39mconv\u001b[39;00m\u001b[39m.\u001b[39;00m\u001b[39mgcn_conv\u001b[39;00m \u001b[39mimport\u001b[39;00m gcn_norm\n\u001b[1;32m      4\u001b[0m \u001b[39mfrom\u001b[39;00m \u001b[39mtorch_geometric\u001b[39;00m\u001b[39m.\u001b[39;00m\u001b[39mtyping\u001b[39;00m \u001b[39mimport\u001b[39;00m Adj, OptTensor, Optional, Union, OptPairTensor, Size\n",
      "File \u001b[0;32m~/anaconda3/envs/EXACT2/lib/python3.8/site-packages/torch_geometric/__init__.py:5\u001b[0m\n\u001b[1;32m      2\u001b[0m \u001b[39mfrom\u001b[39;00m \u001b[39mimportlib\u001b[39;00m \u001b[39mimport\u001b[39;00m import_module\n\u001b[1;32m      4\u001b[0m \u001b[39mfrom\u001b[39;00m \u001b[39m.\u001b[39;00m\u001b[39mdebug\u001b[39;00m \u001b[39mimport\u001b[39;00m is_debug_enabled, debug, set_debug\n\u001b[0;32m----> 5\u001b[0m \u001b[39mimport\u001b[39;00m \u001b[39mtorch_geometric\u001b[39;00m\u001b[39m.\u001b[39;00m\u001b[39mdata\u001b[39;00m\n\u001b[1;32m      6\u001b[0m \u001b[39mimport\u001b[39;00m \u001b[39mtorch_geometric\u001b[39;00m\u001b[39m.\u001b[39;00m\u001b[39mtransforms\u001b[39;00m\n\u001b[1;32m      7\u001b[0m \u001b[39mimport\u001b[39;00m \u001b[39mtorch_geometric\u001b[39;00m\u001b[39m.\u001b[39;00m\u001b[39mutils\u001b[39;00m\n",
      "File \u001b[0;32m~/anaconda3/envs/EXACT2/lib/python3.8/site-packages/torch_geometric/data/__init__.py:1\u001b[0m\n\u001b[0;32m----> 1\u001b[0m \u001b[39mfrom\u001b[39;00m \u001b[39m.\u001b[39;00m\u001b[39mdata\u001b[39;00m \u001b[39mimport\u001b[39;00m Data\n\u001b[1;32m      2\u001b[0m \u001b[39mfrom\u001b[39;00m \u001b[39m.\u001b[39;00m\u001b[39mtemporal\u001b[39;00m \u001b[39mimport\u001b[39;00m TemporalData\n\u001b[1;32m      3\u001b[0m \u001b[39mfrom\u001b[39;00m \u001b[39m.\u001b[39;00m\u001b[39mbatch\u001b[39;00m \u001b[39mimport\u001b[39;00m Batch\n",
      "File \u001b[0;32m~/anaconda3/envs/EXACT2/lib/python3.8/site-packages/torch_geometric/data/data.py:8\u001b[0m\n\u001b[1;32m      6\u001b[0m \u001b[39mimport\u001b[39;00m \u001b[39mtorch\u001b[39;00m\n\u001b[1;32m      7\u001b[0m \u001b[39mimport\u001b[39;00m \u001b[39mtorch_geometric\u001b[39;00m\n\u001b[0;32m----> 8\u001b[0m \u001b[39mfrom\u001b[39;00m \u001b[39mtorch_sparse\u001b[39;00m \u001b[39mimport\u001b[39;00m coalesce, SparseTensor\n\u001b[1;32m      9\u001b[0m \u001b[39mfrom\u001b[39;00m \u001b[39mtorch_geometric\u001b[39;00m\u001b[39m.\u001b[39;00m\u001b[39mutils\u001b[39;00m \u001b[39mimport\u001b[39;00m (contains_isolated_nodes,\n\u001b[1;32m     10\u001b[0m                                    contains_self_loops, is_undirected)\n\u001b[1;32m     12\u001b[0m \u001b[39mfrom\u001b[39;00m \u001b[39m.\u001b[39;00m\u001b[39m.\u001b[39;00m\u001b[39mutils\u001b[39;00m\u001b[39m.\u001b[39;00m\u001b[39mnum_nodes\u001b[39;00m \u001b[39mimport\u001b[39;00m maybe_num_nodes\n",
      "File \u001b[0;32m~/anaconda3/envs/EXACT2/lib/python3.8/site-packages/torch_sparse/__init__.py:15\u001b[0m\n\u001b[1;32m      8\u001b[0m suffix \u001b[39m=\u001b[39m \u001b[39m'\u001b[39m\u001b[39mcuda\u001b[39m\u001b[39m'\u001b[39m \u001b[39mif\u001b[39;00m torch\u001b[39m.\u001b[39mcuda\u001b[39m.\u001b[39mis_available() \u001b[39melse\u001b[39;00m \u001b[39m'\u001b[39m\u001b[39mcpu\u001b[39m\u001b[39m'\u001b[39m\n\u001b[1;32m     10\u001b[0m \u001b[39mfor\u001b[39;00m library \u001b[39min\u001b[39;00m [\n\u001b[1;32m     11\u001b[0m         \u001b[39m'\u001b[39m\u001b[39m_version\u001b[39m\u001b[39m'\u001b[39m, \u001b[39m'\u001b[39m\u001b[39m_convert\u001b[39m\u001b[39m'\u001b[39m, \u001b[39m'\u001b[39m\u001b[39m_diag\u001b[39m\u001b[39m'\u001b[39m, \u001b[39m'\u001b[39m\u001b[39m_spmm\u001b[39m\u001b[39m'\u001b[39m, \u001b[39m'\u001b[39m\u001b[39m_spspmm\u001b[39m\u001b[39m'\u001b[39m, \u001b[39m'\u001b[39m\u001b[39m_metis\u001b[39m\u001b[39m'\u001b[39m, \u001b[39m'\u001b[39m\u001b[39m_rw\u001b[39m\u001b[39m'\u001b[39m,\n\u001b[1;32m     12\u001b[0m         \u001b[39m'\u001b[39m\u001b[39m_saint\u001b[39m\u001b[39m'\u001b[39m, \u001b[39m'\u001b[39m\u001b[39m_sample\u001b[39m\u001b[39m'\u001b[39m, \u001b[39m'\u001b[39m\u001b[39m_ego_sample\u001b[39m\u001b[39m'\u001b[39m, \u001b[39m'\u001b[39m\u001b[39m_hgt_sample\u001b[39m\u001b[39m'\u001b[39m, \u001b[39m'\u001b[39m\u001b[39m_neighbor_sample\u001b[39m\u001b[39m'\u001b[39m,\n\u001b[1;32m     13\u001b[0m         \u001b[39m'\u001b[39m\u001b[39m_relabel\u001b[39m\u001b[39m'\u001b[39m\n\u001b[1;32m     14\u001b[0m ]:\n\u001b[0;32m---> 15\u001b[0m     torch\u001b[39m.\u001b[39;49mops\u001b[39m.\u001b[39;49mload_library(importlib\u001b[39m.\u001b[39;49mmachinery\u001b[39m.\u001b[39;49mPathFinder()\u001b[39m.\u001b[39;49mfind_spec(\n\u001b[1;32m     16\u001b[0m         \u001b[39mf\u001b[39;49m\u001b[39m'\u001b[39;49m\u001b[39m{\u001b[39;49;00mlibrary\u001b[39m}\u001b[39;49;00m\u001b[39m_\u001b[39;49m\u001b[39m{\u001b[39;49;00msuffix\u001b[39m}\u001b[39;49;00m\u001b[39m'\u001b[39;49m, [osp\u001b[39m.\u001b[39;49mdirname(\u001b[39m__file__\u001b[39;49m)])\u001b[39m.\u001b[39;49morigin)\n\u001b[1;32m     18\u001b[0m \u001b[39mif\u001b[39;00m torch\u001b[39m.\u001b[39mcuda\u001b[39m.\u001b[39mis_available():  \u001b[39m# pragma: no cover\u001b[39;00m\n\u001b[1;32m     19\u001b[0m     cuda_version \u001b[39m=\u001b[39m torch\u001b[39m.\u001b[39mops\u001b[39m.\u001b[39mtorch_sparse\u001b[39m.\u001b[39mcuda_version()\n",
      "File \u001b[0;32m~/anaconda3/envs/EXACT2/lib/python3.8/site-packages/torch/_ops.py:104\u001b[0m, in \u001b[0;36m_Ops.load_library\u001b[0;34m(self, path)\u001b[0m\n\u001b[1;32m     99\u001b[0m path \u001b[39m=\u001b[39m torch\u001b[39m.\u001b[39m_utils_internal\u001b[39m.\u001b[39mresolve_library_path(path)\n\u001b[1;32m    100\u001b[0m \u001b[39mwith\u001b[39;00m dl_open_guard():\n\u001b[1;32m    101\u001b[0m     \u001b[39m# Import the shared library into the process, thus running its\u001b[39;00m\n\u001b[1;32m    102\u001b[0m     \u001b[39m# static (global) initialization code in order to register custom\u001b[39;00m\n\u001b[1;32m    103\u001b[0m     \u001b[39m# operators with the JIT.\u001b[39;00m\n\u001b[0;32m--> 104\u001b[0m     ctypes\u001b[39m.\u001b[39;49mCDLL(path)\n\u001b[1;32m    105\u001b[0m \u001b[39mself\u001b[39m\u001b[39m.\u001b[39mloaded_libraries\u001b[39m.\u001b[39madd(path)\n",
      "File \u001b[0;32m~/anaconda3/envs/EXACT2/lib/python3.8/ctypes/__init__.py:373\u001b[0m, in \u001b[0;36mCDLL.__init__\u001b[0;34m(self, name, mode, handle, use_errno, use_last_error, winmode)\u001b[0m\n\u001b[1;32m    370\u001b[0m \u001b[39mself\u001b[39m\u001b[39m.\u001b[39m_FuncPtr \u001b[39m=\u001b[39m _FuncPtr\n\u001b[1;32m    372\u001b[0m \u001b[39mif\u001b[39;00m handle \u001b[39mis\u001b[39;00m \u001b[39mNone\u001b[39;00m:\n\u001b[0;32m--> 373\u001b[0m     \u001b[39mself\u001b[39m\u001b[39m.\u001b[39m_handle \u001b[39m=\u001b[39m _dlopen(\u001b[39mself\u001b[39;49m\u001b[39m.\u001b[39;49m_name, mode)\n\u001b[1;32m    374\u001b[0m \u001b[39melse\u001b[39;00m:\n\u001b[1;32m    375\u001b[0m     \u001b[39mself\u001b[39m\u001b[39m.\u001b[39m_handle \u001b[39m=\u001b[39m handle\n",
      "\u001b[0;31mOSError\u001b[0m: libmetis.so: cannot open shared object file: No such file or directory"
     ]
    }
   ],
   "source": [
    "import torch\n",
    "# import triton\n",
    "# import triton.language as tl\n",
    "import exact.cpp_extension.quantization as ext_quantization\n",
    "import time\n",
    "import sys\n",
    "# sys.path.append('..')\n",
    "# from triton_layer.layers import TritonDropout, TritonReLU\n",
    "# import triton_layer.pack_mask_layers as pack_mask_layers\n",
    "import exact.layers as exact_layers\n",
    "import tabulate"
   ]
  },
  {
   "cell_type": "code",
   "execution_count": null,
   "metadata": {},
   "outputs": [],
   "source": [
    "class QDropoutNet(torch.nn.Module):\n",
    "    def __init__(self, in_channels, out_channels, dropout):\n",
    "        super().__init__()\n",
    "        self.in_channels = in_channels\n",
    "        self.out_channels = out_channels\n",
    "        self.dropout = dropout\n",
    "        self.dropout_layer = exact_layers.QDropout(dropout)\n",
    "    def forward(self, input):\n",
    "        return self.dropout_layer(input)\n",
    "    \n",
    "class QLowMemDropoutNet(torch.nn.Module):\n",
    "    def __init__(self, in_channels, out_channels, dropout):\n",
    "        super().__init__()\n",
    "        self.in_channels = in_channels\n",
    "        self.out_channels = out_channels\n",
    "        self.dropout = dropout\n",
    "        self.dropout_layer = exact_layers.QLowMemDropout(dropout)\n",
    "    def forward(self, input):\n",
    "        return self.dropout_layer(input)"
   ]
  },
  {
   "cell_type": "code",
   "execution_count": null,
   "metadata": {},
   "outputs": [],
   "source": [
    "\n",
    "\n",
    "def test_speed(nets, input, runtime=1000):\n",
    "    net_num = len(nets)\n",
    "    net_forward_time = [0.0] * net_num\n",
    "    net_backward_time = [0.0] * net_num\n",
    "    for _ in range(runtime):\n",
    "        for i, (netname, net) in enumerate(nets):\n",
    "            start = time.time()\n",
    "            output = net(input)\n",
    "            end = time.time()\n",
    "            net_forward_time[i] += end - start\n",
    "            loss = output.sum()\n",
    "            start = time.time()\n",
    "            loss.backward()\n",
    "            end = time.time()\n",
    "            net_backward_time[i] += end - start\n",
    "    netnames = [netname for netname, _ in nets]\n",
    "    # for i, (netname, _) in enumerate(nets):\n",
    "    net_forward_time = [i/runtime*1e6 for i in net_forward_time]\n",
    "    net_backward_time = [i/runtime*1e6 for i in net_backward_time]\n",
    "    print(tabulate.tabulate([\n",
    "        ['']+netnames,\n",
    "        [\"forward avg (us)\"] + net_forward_time,\n",
    "        [\"backward avg (us)\"] + net_backward_time,\n",
    "    ]))\n",
    "    # print(tabulate.tabulate([\n",
    "    #     ['']+netnames[5:],\n",
    "    #     [\"forward avg (us)\"] + net_forward_time[5:],\n",
    "    #     [\"backward avg (us)\"] + net_backward_time[5:],\n",
    "    # ]))\n",
    "        # print(f'{netname} forward avg time: {net_forward_time[i] / runtime*1e6} us')\n",
    "        # print(f'{netname} backward avg time: {net_backward_time[i] / runtime*1e6} us')\n",
    "    "
   ]
  },
  {
   "cell_type": "code",
   "execution_count": null,
   "metadata": {},
   "outputs": [
    {
     "name": "stdout",
     "output_type": "stream",
     "text": [
      "-----------------  -----------------------  ---------------------\n",
      "                   exact pack mask dropout  exact low mem dropout\n",
      "forward avg (us)   31.272680759429928       28.994061946868896\n",
      "backward avg (us)  312.7864933013916        315.244300365448\n",
      "-----------------  -----------------------  ---------------------\n"
     ]
    }
   ],
   "source": [
    "N = 512\n",
    "input = torch.rand(N, N, dtype=torch.float32, requires_grad=True).cuda()\n",
    "nets = [\n",
    "    # ('triton dropout', TDropoutNet(N, N, 0.5).cuda()),\n",
    "    # ('triton pack mask dropout', TPackMaskDropoutNet(N, N, 0.5).cuda()),\n",
    "    # ('triton low mem dropout', TLowMemDropoutNet(N, N, 0.5).cuda()),\n",
    "    # ('torch dropout', TorchDropoutNet(N, N, 0.5).cuda()),\n",
    "    ('exact pack mask dropout', QDropoutNet(N, N, 0.5).cuda()),\n",
    "    ('exact low mem dropout',  QLowMemDropoutNet(N, N, 0.5).cuda()),\n",
    "    # ('triton relu', TReluNet(N, N).cuda()),\n",
    "    # ('triton pack mask relu', TPackMaskReluNet(N, N).cuda()),\n",
    "    # ('torch relu', TorchReluNet(N, N).cuda()),\n",
    "    # ('exact pack mask relu', QReluNet(N, N).cuda()),\n",
    "]\n",
    "test_speed(nets, input, runtime=10_0000)"
   ]
  }
 ],
 "metadata": {
  "kernelspec": {
   "display_name": "EXACT2",
   "language": "python",
   "name": "python3"
  },
  "language_info": {
   "codemirror_mode": {
    "name": "ipython",
    "version": 3
   },
   "file_extension": ".py",
   "mimetype": "text/x-python",
   "name": "python",
   "nbconvert_exporter": "python",
   "pygments_lexer": "ipython3",
   "version": "3.8.17"
  },
  "orig_nbformat": 4
 },
 "nbformat": 4,
 "nbformat_minor": 2
}
