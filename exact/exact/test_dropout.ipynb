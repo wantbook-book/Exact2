{
 "cells": [
  {
   "cell_type": "code",
   "execution_count": 1,
   "metadata": {},
   "outputs": [
    {
     "name": "stderr",
     "output_type": "stream",
     "text": [
      "/home/akai/anaconda3/envs/EXACT2/lib/python3.8/site-packages/tqdm/auto.py:21: TqdmWarning: IProgress not found. Please update jupyter and ipywidgets. See https://ipywidgets.readthedocs.io/en/stable/user_install.html\n",
      "  from .autonotebook import tqdm as notebook_tqdm\n"
     ]
    }
   ],
   "source": [
    "import torch\n",
    "# import triton\n",
    "# import triton.language as tl\n",
    "import exact.cpp_extension.quantization as ext_quantization\n",
    "import time\n",
    "import sys\n",
    "# sys.path.append('..')\n",
    "# from triton_layer.layers import TritonDropout, TritonReLU\n",
    "# import triton_layer.pack_mask_layers as pack_mask_layers\n",
    "import exact.layers as exact_layers\n",
    "import tabulate"
   ]
  },
  {
   "cell_type": "code",
   "execution_count": 2,
   "metadata": {},
   "outputs": [],
   "source": [
    "class QDropoutNet(torch.nn.Module):\n",
    "    def __init__(self, in_channels, out_channels, dropout):\n",
    "        super().__init__()\n",
    "        self.in_channels = in_channels\n",
    "        self.out_channels = out_channels\n",
    "        self.dropout = dropout\n",
    "        self.dropout_layer = exact_layers.QDropout(dropout)\n",
    "    def forward(self, input):\n",
    "        return self.dropout_layer(input)\n",
    "    \n",
    "class QLowMemDropoutNet(torch.nn.Module):\n",
    "    def __init__(self, in_channels, out_channels, dropout):\n",
    "        super().__init__()\n",
    "        self.in_channels = in_channels\n",
    "        self.out_channels = out_channels\n",
    "        self.dropout = dropout\n",
    "        self.dropout_layer = exact_layers.QLowMemDropout(dropout)\n",
    "    def forward(self, input):\n",
    "        return self.dropout_layer(input)"
   ]
  },
  {
   "cell_type": "code",
   "execution_count": 3,
   "metadata": {},
   "outputs": [],
   "source": [
    "\n",
    "\n",
    "def test_speed(nets, input, runtime=1000):\n",
    "    net_num = len(nets)\n",
    "    net_forward_time = [0.0] * net_num\n",
    "    net_backward_time = [0.0] * net_num\n",
    "    for _ in range(runtime):\n",
    "        for i, (netname, net) in enumerate(nets):\n",
    "            start = time.time()\n",
    "            output = net(input)\n",
    "            end = time.time()\n",
    "            net_forward_time[i] += end - start\n",
    "            loss = output.sum()\n",
    "            start = time.time()\n",
    "            loss.backward()\n",
    "            end = time.time()\n",
    "            net_backward_time[i] += end - start\n",
    "    netnames = [netname for netname, _ in nets]\n",
    "    # for i, (netname, _) in enumerate(nets):\n",
    "    net_forward_time = [i/runtime*1e6 for i in net_forward_time]\n",
    "    net_backward_time = [i/runtime*1e6 for i in net_backward_time]\n",
    "    print(tabulate.tabulate([\n",
    "        ['']+netnames,\n",
    "        [\"forward avg (us)\"] + net_forward_time,\n",
    "        [\"backward avg (us)\"] + net_backward_time,\n",
    "    ]))\n",
    "    # print(tabulate.tabulate([\n",
    "    #     ['']+netnames[5:],\n",
    "    #     [\"forward avg (us)\"] + net_forward_time[5:],\n",
    "    #     [\"backward avg (us)\"] + net_backward_time[5:],\n",
    "    # ]))\n",
    "        # print(f'{netname} forward avg time: {net_forward_time[i] / runtime*1e6} us')\n",
    "        # print(f'{netname} backward avg time: {net_backward_time[i] / runtime*1e6} us')\n",
    "    "
   ]
  },
  {
   "cell_type": "code",
   "execution_count": 7,
   "metadata": {},
   "outputs": [
    {
     "ename": "RuntimeError",
     "evalue": "CUDA error: an illegal memory access was encountered\nCUDA kernel errors might be asynchronously reported at some other API call,so the stacktrace below might be incorrect.\nFor debugging consider passing CUDA_LAUNCH_BLOCKING=1.",
     "output_type": "error",
     "traceback": [
      "\u001b[0;31m---------------------------------------------------------------------------\u001b[0m",
      "\u001b[0;31mRuntimeError\u001b[0m                              Traceback (most recent call last)",
      "Cell \u001b[0;32mIn[7], line 15\u001b[0m\n\u001b[1;32m      2\u001b[0m \u001b[39minput\u001b[39m \u001b[39m=\u001b[39m torch\u001b[39m.\u001b[39mrand(N, N, dtype\u001b[39m=\u001b[39mtorch\u001b[39m.\u001b[39mfloat32, requires_grad\u001b[39m=\u001b[39m\u001b[39mTrue\u001b[39;00m)\u001b[39m.\u001b[39mcuda()\n\u001b[1;32m      3\u001b[0m nets \u001b[39m=\u001b[39m [\n\u001b[1;32m      4\u001b[0m     \u001b[39m# ('triton dropout', TDropoutNet(N, N, 0.5).cuda()),\u001b[39;00m\n\u001b[1;32m      5\u001b[0m     \u001b[39m# ('triton pack mask dropout', TPackMaskDropoutNet(N, N, 0.5).cuda()),\u001b[39;00m\n\u001b[0;32m   (...)\u001b[0m\n\u001b[1;32m     13\u001b[0m     \u001b[39m# ('exact pack mask relu', QReluNet(N, N).cuda()),\u001b[39;00m\n\u001b[1;32m     14\u001b[0m ]\n\u001b[0;32m---> 15\u001b[0m test_speed(nets, \u001b[39minput\u001b[39;49m, runtime\u001b[39m=\u001b[39;49m\u001b[39m10\u001b[39;49m)\n",
      "Cell \u001b[0;32mIn[3], line 13\u001b[0m, in \u001b[0;36mtest_speed\u001b[0;34m(nets, input, runtime)\u001b[0m\n\u001b[1;32m     11\u001b[0m loss \u001b[39m=\u001b[39m output\u001b[39m.\u001b[39msum()\n\u001b[1;32m     12\u001b[0m start \u001b[39m=\u001b[39m time\u001b[39m.\u001b[39mtime()\n\u001b[0;32m---> 13\u001b[0m loss\u001b[39m.\u001b[39;49mbackward()\n\u001b[1;32m     14\u001b[0m end \u001b[39m=\u001b[39m time\u001b[39m.\u001b[39mtime()\n\u001b[1;32m     15\u001b[0m net_backward_time[i] \u001b[39m+\u001b[39m\u001b[39m=\u001b[39m end \u001b[39m-\u001b[39m start\n",
      "File \u001b[0;32m~/anaconda3/envs/EXACT2/lib/python3.8/site-packages/torch/_tensor.py:255\u001b[0m, in \u001b[0;36mTensor.backward\u001b[0;34m(self, gradient, retain_graph, create_graph, inputs)\u001b[0m\n\u001b[1;32m    246\u001b[0m \u001b[39mif\u001b[39;00m has_torch_function_unary(\u001b[39mself\u001b[39m):\n\u001b[1;32m    247\u001b[0m     \u001b[39mreturn\u001b[39;00m handle_torch_function(\n\u001b[1;32m    248\u001b[0m         Tensor\u001b[39m.\u001b[39mbackward,\n\u001b[1;32m    249\u001b[0m         (\u001b[39mself\u001b[39m,),\n\u001b[0;32m   (...)\u001b[0m\n\u001b[1;32m    253\u001b[0m         create_graph\u001b[39m=\u001b[39mcreate_graph,\n\u001b[1;32m    254\u001b[0m         inputs\u001b[39m=\u001b[39minputs)\n\u001b[0;32m--> 255\u001b[0m torch\u001b[39m.\u001b[39;49mautograd\u001b[39m.\u001b[39;49mbackward(\u001b[39mself\u001b[39;49m, gradient, retain_graph, create_graph, inputs\u001b[39m=\u001b[39;49minputs)\n",
      "File \u001b[0;32m~/anaconda3/envs/EXACT2/lib/python3.8/site-packages/torch/autograd/__init__.py:147\u001b[0m, in \u001b[0;36mbackward\u001b[0;34m(tensors, grad_tensors, retain_graph, create_graph, grad_variables, inputs)\u001b[0m\n\u001b[1;32m    144\u001b[0m \u001b[39mif\u001b[39;00m retain_graph \u001b[39mis\u001b[39;00m \u001b[39mNone\u001b[39;00m:\n\u001b[1;32m    145\u001b[0m     retain_graph \u001b[39m=\u001b[39m create_graph\n\u001b[0;32m--> 147\u001b[0m Variable\u001b[39m.\u001b[39;49m_execution_engine\u001b[39m.\u001b[39;49mrun_backward(\n\u001b[1;32m    148\u001b[0m     tensors, grad_tensors_, retain_graph, create_graph, inputs,\n\u001b[1;32m    149\u001b[0m     allow_unreachable\u001b[39m=\u001b[39;49m\u001b[39mTrue\u001b[39;49;00m, accumulate_grad\u001b[39m=\u001b[39;49m\u001b[39mTrue\u001b[39;49;00m)\n",
      "\u001b[0;31mRuntimeError\u001b[0m: CUDA error: an illegal memory access was encountered\nCUDA kernel errors might be asynchronously reported at some other API call,so the stacktrace below might be incorrect.\nFor debugging consider passing CUDA_LAUNCH_BLOCKING=1."
     ]
    }
   ],
   "source": [
    "N = 512\n",
    "input = torch.rand(N, N, dtype=torch.float32, requires_grad=True).cuda()\n",
    "nets = [\n",
    "    # ('triton dropout', TDropoutNet(N, N, 0.5).cuda()),\n",
    "    # ('triton pack mask dropout', TPackMaskDropoutNet(N, N, 0.5).cuda()),\n",
    "    # ('triton low mem dropout', TLowMemDropoutNet(N, N, 0.5).cuda()),\n",
    "    # ('torch dropout', TorchDropoutNet(N, N, 0.5).cuda()),\n",
    "    ('exact pack mask dropout', QDropoutNet(N, N, 0.5).cuda()),\n",
    "    ('exact low mem dropout',  QLowMemDropoutNet(N, N, 0.5).cuda()),\n",
    "    # ('triton relu', TReluNet(N, N).cuda()),\n",
    "    # ('triton pack mask relu', TPackMaskReluNet(N, N).cuda()),\n",
    "    # ('torch relu', TorchReluNet(N, N).cuda()),\n",
    "    # ('exact pack mask relu', QReluNet(N, N).cuda()),\n",
    "]\n",
    "test_speed(nets, input, runtime=10)"
   ]
  }
 ],
 "metadata": {
  "kernelspec": {
   "display_name": "EXACT2",
   "language": "python",
   "name": "python3"
  },
  "language_info": {
   "codemirror_mode": {
    "name": "ipython",
    "version": 3
   },
   "file_extension": ".py",
   "mimetype": "text/x-python",
   "name": "python",
   "nbconvert_exporter": "python",
   "pygments_lexer": "ipython3",
   "version": "3.8.17"
  },
  "orig_nbformat": 4
 },
 "nbformat": 4,
 "nbformat_minor": 2
}
